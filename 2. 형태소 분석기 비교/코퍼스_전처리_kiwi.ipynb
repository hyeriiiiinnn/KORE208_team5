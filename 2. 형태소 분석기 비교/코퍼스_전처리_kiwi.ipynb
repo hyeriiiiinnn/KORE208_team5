{
  "nbformat": 4,
  "nbformat_minor": 0,
  "metadata": {
    "colab": {
      "provenance": []
    },
    "kernelspec": {
      "name": "python3",
      "display_name": "Python 3"
    },
    "language_info": {
      "name": "python"
    }
  },
  "cells": [
    {
      "cell_type": "code",
      "source": [
        "pip install kiwipiepy"
      ],
      "metadata": {
        "id": "ULW5zHFwaGqC"
      },
      "execution_count": null,
      "outputs": []
    },
    {
      "cell_type": "code",
      "source": [
        "# 1. 필요한 라이브러리 임포트\n",
        "import json\n",
        "import re\n",
        "from kiwipiepy import Kiwi\n",
        "from tqdm import tqdm\n",
        "from pprint import pprint as pp\n",
        "\n",
        "# JSON 파일 로딩\n",
        "with open(\"/content/이준석.json\", \"r\", encoding=\"utf-8\") as f:\n",
        "    data = json.load(f)\n",
        "\n",
        "articles = data[\"이준석\"]\n",
        "contents = [article[\"content\"] for article in articles]"
      ],
      "metadata": {
        "id": "1I-54qCkWYa3"
      },
      "execution_count": 26,
      "outputs": []
    },
    {
      "cell_type": "code",
      "source": [
        "pp(type(data))"
      ],
      "metadata": {
        "colab": {
          "base_uri": "https://localhost:8080/"
        },
        "id": "qbUe16IBWrSo",
        "outputId": "5aaacb95-1681-4e9f-d93a-bbff96d666c9"
      },
      "execution_count": 19,
      "outputs": [
        {
          "output_type": "stream",
          "name": "stdout",
          "text": [
            "<class 'dict'>\n"
          ]
        }
      ]
    },
    {
      "cell_type": "code",
      "source": [
        "pp(data.keys())"
      ],
      "metadata": {
        "colab": {
          "base_uri": "https://localhost:8080/"
        },
        "id": "Jzoskek5Wu2v",
        "outputId": "611f3a15-c64a-45ef-b27d-59c51682cf01"
      },
      "execution_count": 20,
      "outputs": [
        {
          "output_type": "stream",
          "name": "stdout",
          "text": [
            "dict_keys(['이준석'])\n"
          ]
        }
      ]
    },
    {
      "cell_type": "code",
      "source": [
        "for i in data.keys():\n",
        "  pp(f\"key : {i}; type: { type(data[i])}; lenghth: {len(data[i])}\")"
      ],
      "metadata": {
        "colab": {
          "base_uri": "https://localhost:8080/"
        },
        "id": "vBPOx62YW1Dn",
        "outputId": "1827d532-19cc-43c0-f1c8-fcd246389a6d"
      },
      "execution_count": 21,
      "outputs": [
        {
          "output_type": "stream",
          "name": "stdout",
          "text": [
            "\"key : 이준석; type: <class 'list'>; lenghth: 1688\"\n"
          ]
        }
      ]
    },
    {
      "cell_type": "code",
      "source": [
        "import re\n",
        "\n",
        "def clean_text(text):\n",
        "    text = re.sub(r'<.*?>', '', text)                 # HTML 태그 제거\n",
        "    text = re.sub(r'\\n+', ' ', text)                  # 줄바꿈 -> 공백\n",
        "    text = re.sub(r'[\"“”‘’\\'!?…·,;:\\(\\)\\[\\]\\{\\}]', '', text)  # 주요 문장부호 제거\n",
        "    text = re.sub(r'[^\\w\\s가-힣]', '', text)           # 그 외 특수문자 제거 (이중 필터링)\n",
        "    text = re.sub(r'\\s+', ' ', text).strip()          # 다중 공백 제거\n",
        "    return text\n",
        "\n",
        "# 적용\n",
        "cleaned_contents = [clean_text(text) for text in contents]\n",
        "\n"
      ],
      "metadata": {
        "id": "Cd4Wc5GPYT-t"
      },
      "execution_count": 27,
      "outputs": []
    },
    {
      "cell_type": "code",
      "source": [
        "# 4. 문장 단위로 품사 태깅 결과를 병합\n",
        "rows = []\n",
        "for doc_id, text in enumerate(cleaned_contents):\n",
        "    sentences = kiwi.split_into_sents(text)\n",
        "    for sent in sentences:\n",
        "        analyzed = kiwi.analyze(sent.text)[0][0]\n",
        "        tagged_str = ' '.join([f\"{token.form}({token.tag})\" for token in analyzed])\n",
        "        rows.append({\n",
        "            \"doc_id\": doc_id,\n",
        "            \"original_sentence\": sent.text,\n",
        "            \"tagged_sentence\": tagged_str\n",
        "        })\n",
        "\n",
        "# 5. DataFrame 생성\n",
        "df_tagged = pd.DataFrame(rows)\n"
      ],
      "metadata": {
        "id": "2ZHGn0qNaEUB"
      },
      "execution_count": 31,
      "outputs": []
    },
    {
      "cell_type": "code",
      "source": [
        "import pandas as pd\n",
        "\n",
        "rows = []\n",
        "\n",
        "for article in tagged_articles:\n",
        "    for sent in article:\n",
        "        for token, tag in sent[\"tagged_tokens\"]:\n",
        "            rows.append({\n",
        "                \"doc_id\": sent[\"doc_id\"],\n",
        "                \"sentence\": sent[\"sentence\"],\n",
        "                \"token\": token,\n",
        "                \"tag\": tag\n",
        "            })\n",
        "\n",
        "df = pd.DataFrame(rows)\n"
      ],
      "metadata": {
        "id": "ltDo3di_cNk6"
      },
      "execution_count": 29,
      "outputs": []
    },
    {
      "cell_type": "code",
      "source": [
        "df_tagged.to_csv(\"이준석_문장별_품사태깅.csv\", index=False, encoding=\"utf-8-sig\")\n"
      ],
      "metadata": {
        "id": "7CDEu7YBdDvG"
      },
      "execution_count": 32,
      "outputs": []
    }
  ]
}